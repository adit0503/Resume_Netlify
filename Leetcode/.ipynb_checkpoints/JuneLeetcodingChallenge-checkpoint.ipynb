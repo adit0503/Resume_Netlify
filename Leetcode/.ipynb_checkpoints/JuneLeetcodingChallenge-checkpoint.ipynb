{
 "cells": [
  {
   "cell_type": "code",
   "execution_count": null,
   "metadata": {},
   "outputs": [],
   "source": []
  },
  {
   "cell_type": "markdown",
   "metadata": {},
   "source": [
    "# June 09, 2020\n",
    "## [Is Subsequence](https://leetcode.com/problems/is-subsequence/)"
   ]
  },
  {
   "cell_type": "code",
   "execution_count": null,
   "metadata": {},
   "outputs": [],
   "source": [
    "class Solution:\n",
    "    def isSubsequence(self, S: str, T: str) -> bool:\n",
    "        \n",
    "        if not S:\n",
    "            return True\n",
    "        if not T:\n",
    "            return False\n",
    "        \n",
    "        s,t = 0,0\n",
    "        \n",
    "        ls = len(S)\n",
    "        lt = len(T)\n",
    "        \n",
    "        while(t<lt):\n",
    "            if S[s] == T[t]:\n",
    "                s += 1\n",
    "                if s == ls:\n",
    "                    return True\n",
    "            t += 1\n",
    "            \n",
    "        return False"
   ]
  },
  {
   "cell_type": "markdown",
   "metadata": {},
   "source": [
    "# Jun 08, 2020\n",
    "## [Power of Two](https://leetcode.com/problems/power-of-two/)"
   ]
  },
  {
   "cell_type": "code",
   "execution_count": null,
   "metadata": {},
   "outputs": [],
   "source": [
    "class Solution:\n",
    "    def isPowerOfTwo(self, n: int) -> bool:   \n",
    "        \n",
    "        if n<0:\n",
    "            return False\n",
    "        \n",
    "        i = 0\n",
    "        count = 0\n",
    "        while(i<32):\n",
    "            if n>>i & 1:\n",
    "                count += 1\n",
    "            i += 1\n",
    "\n",
    "        return count == 1"
   ]
  },
  {
   "cell_type": "code",
   "execution_count": null,
   "metadata": {},
   "outputs": [],
   "source": [
    "class Solution:\n",
    "    def isPowerOfTwo(self, n: int) -> bool:   \n",
    "        \n",
    "        if n<=0:\n",
    "            return False\n",
    "        \n",
    "        while(n%2 == 0):\n",
    "            n /= 2\n",
    "        \n",
    "        return n == 1"
   ]
  },
  {
   "cell_type": "markdown",
   "metadata": {},
   "source": [
    "# Jun 07, 2020\n",
    "## [Coin Change 2](https://leetcode.com/problems/coin-change-2/)"
   ]
  },
  {
   "cell_type": "code",
   "execution_count": null,
   "metadata": {},
   "outputs": [],
   "source": [
    "class Solution:\n",
    "    def change(self, amount: int, coins: List[int]) -> int:\n",
    "        \n",
    "        memo = [0 for _ in range(amount + 1)]\n",
    "        memo[0] = 1\n",
    "        \n",
    "        for c in coins:\n",
    "            for amt in range(amount+1):\n",
    "                if amt >= c:\n",
    "                    memo[amt] += memo[amt-c]\n",
    "                    \n",
    "        return memo[-1]"
   ]
  },
  {
   "cell_type": "markdown",
   "metadata": {},
   "source": [
    "# Jun 06, 2020\n",
    "## [Queue Reconstruction by Height](https://leetcode.com/problems/queue-reconstruction-by-height/)"
   ]
  },
  {
   "cell_type": "code",
   "execution_count": null,
   "metadata": {},
   "outputs": [],
   "source": [
    "class Solution:\n",
    "    def reconstructQueue(self, people: List[List[int]]) -> List[List[int]]:\n",
    "        \n",
    "        if not people:\n",
    "            return people\n",
    "        \n",
    "        temp = {}\n",
    "        for p in people:\n",
    "            h,k = p\n",
    "            temp[h] = temp.get(h,[]) + [k]\n",
    "        \n",
    "        height = sorted(temp.keys(),reverse=True)\n",
    "        i = 0\n",
    "        \n",
    "        res = []\n",
    "        while(i<len(height)):\n",
    "            h = height[i]\n",
    "            for t in sorted(temp[h]):\n",
    "                res.insert(t,[h,t])\n",
    "            i += 1\n",
    "        return res"
   ]
  },
  {
   "cell_type": "markdown",
   "metadata": {},
   "source": [
    "# Jun 05, 2020\n",
    "## [Random Pick with Weight](https://leetcode.com/problems/random-pick-with-weight/)"
   ]
  },
  {
   "cell_type": "code",
   "execution_count": null,
   "metadata": {},
   "outputs": [],
   "source": [
    "class Solution:\n",
    "\n",
    "    def __init__(self, w: List[int]):\n",
    "        self.nums = [w[0]]\n",
    "        \n",
    "        for i in range(1, len(w)):\n",
    "            self.nums.append(self.nums[-1] + w[i])\n",
    "        \n",
    "\n",
    "    def pickIndex(self) -> int:\n",
    "        val = random.randrange(1, self.nums[-1] + 1)\n",
    "        return self.getPos(val)\n",
    "        \n",
    "    #Technically, find insert position of val\n",
    "    def getPos(self, val):\n",
    "        l = 0\n",
    "        r = len(self.nums) - 1\n",
    "        \n",
    "        while l < r:\n",
    "            mid = l + (r - l) // 2\n",
    "            \n",
    "            if self.nums[mid] < val:\n",
    "                l = mid + 1\n",
    "            else:\n",
    "                r = mid\n",
    "                \n",
    "        return l\n",
    "\n",
    "# Your Solution object will be instantiated and called as such:\n",
    "# obj = Solution(w)\n",
    "# param_1 = obj.pickIndex()"
   ]
  },
  {
   "cell_type": "markdown",
   "metadata": {},
   "source": [
    "# Jun 04, 2020\n",
    "## [Reverse String](https://leetcode.com/problems/reverse-string/)"
   ]
  },
  {
   "cell_type": "code",
   "execution_count": null,
   "metadata": {},
   "outputs": [],
   "source": [
    "class Solution:\n",
    "    def reverseString(self, s: List[str]) -> None:\n",
    "        \"\"\"\n",
    "        Do not return anything, modify s in-place instead.\n",
    "        \"\"\"\n",
    "        \n",
    "        i,j = 0,len(s)-1\n",
    "        \n",
    "        while(i<j):\n",
    "            s[i],s[j] = s[j],s[i]\n",
    "            i += 1\n",
    "            j -= 1"
   ]
  },
  {
   "cell_type": "markdown",
   "metadata": {},
   "source": [
    "# Jun 03, 2020\n",
    "## [Two City Scheduling](https://leetcode.com/problems/two-city-scheduling/)"
   ]
  },
  {
   "cell_type": "code",
   "execution_count": null,
   "metadata": {},
   "outputs": [],
   "source": [
    "class Solution:\n",
    "    def twoCitySchedCost(self, costs: List[List[int]]) -> int:\n",
    "        \n",
    "        n = len(costs)//2\n",
    "        costs.sort(key = lambda c:c[0]-c[1])\n",
    "        \n",
    "        s1 = 0\n",
    "        s2 = 0\n",
    "        for i in range(n):\n",
    "            s1 += costs[i][0]\n",
    "        for i in range(n,2*n):\n",
    "            s2 += costs[i][1]\n",
    "        \n",
    "        return s1+s2"
   ]
  },
  {
   "cell_type": "markdown",
   "metadata": {},
   "source": [
    "# Jun 02, 2020\n",
    "## [Delete Node in a Linked List](https://leetcode.com/problems/delete-node-in-a-linked-list/)"
   ]
  },
  {
   "cell_type": "code",
   "execution_count": null,
   "metadata": {},
   "outputs": [],
   "source": [
    "class Solution:\n",
    "    def deleteNode(self, node):\n",
    "        \"\"\"\n",
    "        :type node: ListNode\n",
    "        :rtype: void Do not return anything, modify node in-place instead.\n",
    "        \"\"\"\n",
    "        node.val = node.next.val\n",
    "        node.next = node.next.next"
   ]
  },
  {
   "cell_type": "markdown",
   "metadata": {},
   "source": [
    "# Jun 01, 2020\n",
    "## [Invert Binary Tree](https://leetcode.com/problems/invert-binary-tree/)"
   ]
  },
  {
   "cell_type": "code",
   "execution_count": null,
   "metadata": {},
   "outputs": [],
   "source": [
    "class Solution:\n",
    "    def invertTree(self, root: TreeNode) -> TreeNode:\n",
    "        \n",
    "        queue = [root]\n",
    "        \n",
    "        while(queue):\n",
    "            node = queue.pop(0)\n",
    "            if node:\n",
    "                queue.append(node.left)\n",
    "                queue.append(node.right)\n",
    "                node.left,node.right = node.right,node.left\n",
    "        \n",
    "        return root"
   ]
  }
 ],
 "metadata": {
  "kernelspec": {
   "display_name": "Python 3",
   "language": "python",
   "name": "python3"
  },
  "language_info": {
   "codemirror_mode": {
    "name": "ipython",
    "version": 3
   },
   "file_extension": ".py",
   "mimetype": "text/x-python",
   "name": "python",
   "nbconvert_exporter": "python",
   "pygments_lexer": "ipython3",
   "version": "3.6.9"
  }
 },
 "nbformat": 4,
 "nbformat_minor": 4
}
